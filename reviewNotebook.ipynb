{
 "cells": [
  {
   "cell_type": "markdown",
   "id": "7aadc364",
   "metadata": {},
   "source": [
    "# InterFaceGAN Usage Demo\n",
    "Adapted from https://colab.research.google.com/github/genforce/interfacegan/blob/master/docs/InterFaceGAN.ipynb#scrollTo=ijKTlG5GeTd3\n",
    "(If running the original edit.py make sure to change model_settings.py's USE_CUDA to False if you're not running on an nVidia GPU)"
   ]
  },
  {
   "cell_type": "markdown",
   "id": "c10ae39c",
   "metadata": {},
   "source": [
    "## Download pre-trained PGGAN and StyleGAN models / Install modules"
   ]
  },
  {
   "cell_type": "code",
   "execution_count": null,
   "id": "7616dd77",
   "metadata": {},
   "outputs": [],
   "source": [
    "!powershell curl \"https://www.dropbox.com/s/t74z87pk3cf8ny7/pggan_celebahq.pth?dl=1\" -o models/pretrain/pggan_celebahq.pth \n",
    "!powershell curl \"https://www.dropbox.com/s/nmo2g3u0qt7x70m/stylegan_celebahq.pth?dl=1\" -o models/pretrain/stylegan_celebahq.pth \n",
    "!powershell curl \"https://www.dropbox.com/s/qyv37eaobnow7fu/stylegan_ffhq.pth?dl=1\" -o models/pretrain/stylegan_ffhq.pth"
   ]
  },
  {
   "cell_type": "code",
   "execution_count": null,
   "id": "31090195",
   "metadata": {},
   "outputs": [],
   "source": [
    "!pip install IPython\n",
    "!pip install numpy\n",
    "!pip install opencv-python\n",
    "!pip install pillow\n",
    "!pip install torch\n",
    "!pip install sklearn\n",
    "!pip install tqdm"
   ]
  },
  {
   "cell_type": "markdown",
   "id": "4a879558",
   "metadata": {},
   "source": [
    "## Defining Helper and Utility Functions"
   ]
  },
  {
   "cell_type": "code",
   "execution_count": null,
   "id": "fc0c2265",
   "metadata": {},
   "outputs": [],
   "source": [
    "import os.path\n",
    "import io\n",
    "import IPython.display\n",
    "import numpy as np\n",
    "import cv2\n",
    "import PIL.Image\n",
    "import torch\n",
    "\n",
    "from models.model_settings import MODEL_POOL\n",
    "from models.pggan_generator import PGGANGenerator\n",
    "from models.stylegan_generator import StyleGANGenerator\n",
    "from utils.manipulator import linear_interpolate\n",
    "\n",
    "\n",
    "def build_generator(model_name):\n",
    "    \"\"\"Builds the generator by model name.\"\"\"\n",
    "\n",
    "    # Either chose a PGGAN or StyleGAN generator\n",
    "    gan_type = MODEL_POOL[model_name]['gan_type']\n",
    "    if gan_type == 'pggan':\n",
    "        generator = PGGANGenerator(model_name)\n",
    "    elif gan_type == 'stylegan':\n",
    "        generator = StyleGANGenerator(model_name)\n",
    "    return generator\n",
    "\n",
    "\n",
    "def sample_codes(generator, num, latent_space_type='Z', seed=0):\n",
    "    \"\"\"Samples latent codes randomly.\"\"\"\n",
    "    np.random.seed(seed)\n",
    "    codes = generator.easy_sample(num)\n",
    "    if generator.gan_type == 'stylegan' and latent_space_type == 'W':\n",
    "        codes = torch.from_numpy(codes).type(torch.FloatTensor).to(generator.run_device)\n",
    "        codes = generator.get_value(generator.model.mapping(codes))\n",
    "    return codes\n",
    "\n",
    "\n",
    "def imshow(images, col, viz_size=256):\n",
    "    \"\"\"Shows images in one figure.\"\"\"\n",
    "    num, height, width, channels = images.shape\n",
    "    assert num % col == 0\n",
    "    row = num // col\n",
    "\n",
    "    fused_image = np.zeros((viz_size * row, viz_size * col, channels), dtype=np.uint8)\n",
    "\n",
    "    for idx, image in enumerate(images):\n",
    "        i, j = divmod(idx, col)\n",
    "        y = i * viz_size\n",
    "        x = j * viz_size\n",
    "        \n",
    "        if height != viz_size or width != viz_size:\n",
    "            image = cv2.resize(image, (viz_size, viz_size))\n",
    "            fused_image[y:y + viz_size, x:x + viz_size] = image\n",
    "\n",
    "    fused_image = np.asarray(fused_image, dtype=np.uint8)\n",
    "    data = io.BytesIO()\n",
    "    PIL.Image.fromarray(fused_image).save(data, 'jpeg')\n",
    "    im_data = data.getvalue()\n",
    "    disp = IPython.display.display(IPython.display.Image(im_data))\n",
    "    return disp"
   ]
  },
  {
   "cell_type": "markdown",
   "id": "06036d97",
   "metadata": {},
   "source": [
    "## Chose a downloaded model and load the pre-learned hyperplane boundaries"
   ]
  },
  {
   "cell_type": "code",
   "execution_count": null,
   "id": "7a8edd46",
   "metadata": {},
   "outputs": [],
   "source": [
    "#Multiple GANs are pretrained with boundaries ['pggan_celebahq','stylegan_celebahq', 'stylegan_ffhq']\n",
    "model_name = \"pggan_celebahq\" \n",
    "\n",
    "# Chose latent space W or Z\n",
    "latent_space_type = \"W\" \n",
    "\n",
    "# Create a generator matching the selected model name\n",
    "generator = build_generator(model_name)\n",
    "\n",
    "# Load the SVM pre-trained hyperplane models\n",
    "ATTRS = ['age', 'eyeglasses', 'gender', 'pose', 'smile']\n",
    "boundaries = {}\n",
    "for i, attr_name in enumerate(ATTRS):\n",
    "    boundary_name = f'{model_name}_{attr_name}'\n",
    "    if generator.gan_type == 'stylegan' and latent_space_type == 'W':\n",
    "        boundaries[attr_name] = np.load(f'boundaries/{boundary_name}_w_boundary.npy')\n",
    "    else:\n",
    "        boundaries[attr_name] = np.load(f'boundaries/{boundary_name}_boundary.npy')"
   ]
  },
  {
   "cell_type": "markdown",
   "id": "478762b7",
   "metadata": {},
   "source": [
    "## Generate latent codes"
   ]
  },
  {
   "cell_type": "code",
   "execution_count": null,
   "id": "1f8b7965",
   "metadata": {},
   "outputs": [],
   "source": [
    "num_samples = 4\n",
    "noise_seed = 147\n",
    "\n",
    "# Generate the latent codes\n",
    "latent_codes = sample_codes(generator, num_samples, latent_space_type, noise_seed)\n",
    "if generator.gan_type == 'stylegan' and latent_space_type == 'W':\n",
    "    synthesis_kwargs = {'latent_space_type': 'W'}\n",
    "else:\n",
    "    synthesis_kwargs = {}\n",
    "\n",
    "# Show the generated images\n",
    "images = generator.easy_synthesize(latent_codes, **synthesis_kwargs)['image']\n",
    "imshow(images, col=num_samples)"
   ]
  },
  {
   "cell_type": "markdown",
   "id": "5e1d4390",
   "metadata": {},
   "source": [
    "## Editing the learned attributes"
   ]
  },
  {
   "cell_type": "code",
   "execution_count": null,
   "id": "e7047901",
   "metadata": {},
   "outputs": [],
   "source": [
    "# Change these attributes in an interval [-3 ; 3]\n",
    "age        = 0 \n",
    "eyeglasses = 2\n",
    "gender     = 0 \n",
    "pose       = 0 \n",
    "smile      = 2\n",
    "\n",
    "# Apply the selected attribute values to our latent codes\n",
    "new_codes = latent_codes.copy()\n",
    "for i, attr_name in enumerate(ATTRS):\n",
    "    new_codes += boundaries[attr_name] * eval(attr_name)\n",
    "\n",
    "# Generate new faces from the modified codes\n",
    "new_images = generator.easy_synthesize(new_codes, **synthesis_kwargs)['image']\n",
    "imshow(images, col=num_samples)\n",
    "imshow(new_images, col=num_samples)"
   ]
  },
  {
   "cell_type": "code",
   "execution_count": null,
   "id": "8cf19af5",
   "metadata": {},
   "outputs": [],
   "source": []
  }
 ],
 "metadata": {
  "interpreter": {
   "hash": "b9f7df1bd17187315bd2d47d9bd99b11a8fd91b8b7b5c388ec084df93528995d"
  },
  "kernelspec": {
   "display_name": "Python 3",
   "language": "python",
   "name": "python3"
  },
  "language_info": {
   "codemirror_mode": {
    "name": "ipython",
    "version": 3
   },
   "file_extension": ".py",
   "mimetype": "text/x-python",
   "name": "python",
   "nbconvert_exporter": "python",
   "pygments_lexer": "ipython3",
   "version": "3.8.5"
  }
 },
 "nbformat": 4,
 "nbformat_minor": 5
}
